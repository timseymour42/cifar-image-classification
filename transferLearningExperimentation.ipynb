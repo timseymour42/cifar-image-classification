{
  "cells": [
    {
      "cell_type": "code",
      "execution_count": 17,
      "metadata": {
        "id": "Hw-x7OSszymZ"
      },
      "outputs": [],
      "source": [
        "import tensorflow as tf\n",
        "from tensorflow.keras.datasets import cifar10\n",
        "from tensorflow.keras.applications import VGG16\n",
        "import ssl\n",
        "import numpy as np\n",
        "from scipy import stats\n",
        "ssl._create_default_https_context = ssl._create_unverified_context\n",
        "\n",
        "# Refer to cifarDataPrep notebook for step-by-step explanation of data preparation\n",
        "# Load the CIFAR-10 dataset\n",
        "(X_train, y_train), (X_test, y_test) = cifar10.load_data()\n",
        "\n",
        "# Preprocess the data\n",
        "X_train = X_train.astype('float32') / 255.0\n",
        "X_test = X_test.astype('float32') / 255.0\n",
        "\n",
        "# Convert the target labels to one-hot encoding\n",
        "num_classes = 10\n",
        "y_train = tf.keras.utils.to_categorical(y_train, num_classes)\n",
        "y_test = tf.keras.utils.to_categorical(y_test, num_classes)\n",
        "\n"
      ]
    },
    {
      "cell_type": "code",
      "execution_count": 18,
      "metadata": {
        "id": "K6OKx3wxzyme"
      },
      "outputs": [],
      "source": [
        "# Build the baseline model\n",
        "base_model = tf.keras.Sequential([\n",
        "    # Convolutional layers are crucial for capturing spatial patterns in images. The chosen configuration \n",
        "    # consists of two pairs of Conv2D layers. The first pair has 32 filters, and the second pair has 64 filters. \n",
        "    # Each Conv2D layer uses a 3x3 filter size, which is a common choice. These layers apply convolution operations \n",
        "    # to the input image, extracting relevant features and learning representations that are useful for classification.\n",
        "    tf.keras.layers.Conv2D(32, (3, 3), activation='relu', padding='same', input_shape=(32, 32, 3)),\n",
        "    tf.keras.layers.Conv2D(32, (3, 3), activation='relu'),\n",
        "    # Max pooling is used to downsample the feature maps obtained from the convolutional layers. It helps reduce the\n",
        "    # spatial dimensions while retaining the most important information. In this model, MaxPooling2D layers with a \n",
        "    # 2x2 pool size are added after each pair of Conv2D layers to progressively reduce the spatial dimensions.\n",
        "    tf.keras.layers.MaxPooling2D((2, 2)),\n",
        "    # Dropout layers help prevent overfitting by randomly setting a fraction of input units to 0 during training. \n",
        "    # The dropout rate of 0.25 is chosen in this model, meaning 25% of the units are randomly dropped during each training step. \n",
        "    # Dropout acts as a regularization technique, promoting the model's ability to generalize and reducing the likelihood of overfitting.\n",
        "    tf.keras.layers.Dropout(0.25),\n",
        "    tf.keras.layers.Conv2D(64, (3, 3), activation='relu', padding='same'),\n",
        "    tf.keras.layers.Conv2D(64, (3, 3), activation='relu'),\n",
        "    tf.keras.layers.MaxPooling2D((2, 2)),\n",
        "    tf.keras.layers.Dropout(0.25),\n",
        "    # The Flatten layer is used to convert the 2D feature maps from the previous layer into a 1D feature vector. \n",
        "    # This flattening operation is necessary to connect the convolutional layers to the subsequent dense (fully connected) layers.\n",
        "    tf.keras.layers.Flatten(),\n",
        "    # Dense layers are fully connected layers where each neuron is connected to every neuron in the previous layer. In this model, \n",
        "    # there is one dense layer are added with 512 units. This layer provides higher-level abstractions by combining features learned \n",
        "    # from the convolutional layers. The use of ReLU activation in the dense layer helps introduce non-linearity to the model.\n",
        "    tf.keras.layers.Dense(256, activation='relu'),\n",
        "    tf.keras.layers.Dropout(0.5),\n",
        "    # The final dense layer has the number of units equal to the number of classes in the dataset (10 in this case). \n",
        "    # The softmax activation function is used to produce probability scores for each class, enabling the model to make predictions.\n",
        "    tf.keras.layers.Dense(num_classes, activation='softmax')\n",
        "])\n",
        "\n"
      ]
    },
    {
      "cell_type": "code",
      "execution_count": 19,
      "metadata": {
        "id": "gj5XKNmUzymg"
      },
      "outputs": [],
      "source": [
        "from tensorflow.keras import regularizers\n",
        "\n",
        "# Building a transfer learning model to improve upon the baseline model\n",
        "# Load the VGG16 model pre-trained on ImageNet\n",
        "# By setting include_top=False, we exclude the fully connected layers at the top of the VGG16 model\n",
        "vgg_model = VGG16(weights='imagenet', include_top=False, input_shape=(32, 32, 3))\n",
        "\n",
        "# Freeze the pre-trained layers\n",
        "for layer in range(11):\n",
        "    vgg_model.layers[layer].trainable = False\n",
        "\n",
        "vgg16_model = tf.keras.Sequential([\n",
        "    vgg_model,\n",
        "    tf.keras.layers.Flatten(),\n",
        "    tf.keras.layers.Dense(32, activation='relu', kernel_regularizer=regularizers.l2(0.01)),\n",
        "    tf.keras.layers.Dense(10, activation='softmax')\n",
        "])"
      ]
    },
    {
      "cell_type": "code",
      "execution_count": 20,
      "metadata": {
        "colab": {
          "base_uri": "https://localhost:8080/"
        },
        "id": "rE9IRerEkxHr",
        "outputId": "440b4ef5-43ee-4e90-f45b-3dfa9ee42991"
      },
      "outputs": [
        {
          "name": "stdout",
          "output_type": "stream",
          "text": [
            "Model: \"vgg16\"\n",
            "_________________________________________________________________\n",
            " Layer (type)                Output Shape              Param #   \n",
            "=================================================================\n",
            " input_4 (InputLayer)        [(None, 32, 32, 3)]       0         \n",
            "                                                                 \n",
            " block1_conv1 (Conv2D)       (None, 32, 32, 64)        1792      \n",
            "                                                                 \n",
            " block1_conv2 (Conv2D)       (None, 32, 32, 64)        36928     \n",
            "                                                                 \n",
            " block1_pool (MaxPooling2D)  (None, 16, 16, 64)        0         \n",
            "                                                                 \n",
            " block2_conv1 (Conv2D)       (None, 16, 16, 128)       73856     \n",
            "                                                                 \n",
            " block2_conv2 (Conv2D)       (None, 16, 16, 128)       147584    \n",
            "                                                                 \n",
            " block2_pool (MaxPooling2D)  (None, 8, 8, 128)         0         \n",
            "                                                                 \n",
            " block3_conv1 (Conv2D)       (None, 8, 8, 256)         295168    \n",
            "                                                                 \n",
            " block3_conv2 (Conv2D)       (None, 8, 8, 256)         590080    \n",
            "                                                                 \n",
            " block3_conv3 (Conv2D)       (None, 8, 8, 256)         590080    \n",
            "                                                                 \n",
            " block3_pool (MaxPooling2D)  (None, 4, 4, 256)         0         \n",
            "                                                                 \n",
            " block4_conv1 (Conv2D)       (None, 4, 4, 512)         1180160   \n",
            "                                                                 \n",
            " block4_conv2 (Conv2D)       (None, 4, 4, 512)         2359808   \n",
            "                                                                 \n",
            " block4_conv3 (Conv2D)       (None, 4, 4, 512)         2359808   \n",
            "                                                                 \n",
            " block4_pool (MaxPooling2D)  (None, 2, 2, 512)         0         \n",
            "                                                                 \n",
            " block5_conv1 (Conv2D)       (None, 2, 2, 512)         2359808   \n",
            "                                                                 \n",
            " block5_conv2 (Conv2D)       (None, 2, 2, 512)         2359808   \n",
            "                                                                 \n",
            " block5_conv3 (Conv2D)       (None, 2, 2, 512)         2359808   \n",
            "                                                                 \n",
            " block5_pool (MaxPooling2D)  (None, 1, 1, 512)         0         \n",
            "                                                                 \n",
            "=================================================================\n",
            "Total params: 14,714,688\n",
            "Trainable params: 12,979,200\n",
            "Non-trainable params: 1,735,488\n",
            "_________________________________________________________________\n"
          ]
        }
      ],
      "source": [
        "vgg_model.summary()"
      ]
    },
    {
      "cell_type": "code",
      "execution_count": 21,
      "metadata": {
        "colab": {
          "base_uri": "https://localhost:8080/"
        },
        "id": "3I2VHiREzymi",
        "outputId": "96f3a21e-6be6-467a-e5e0-6a1973c6f19e"
      },
      "outputs": [
        {
          "name": "stdout",
          "output_type": "stream",
          "text": [
            "Model: \"sequential_6\"\n",
            "_________________________________________________________________\n",
            " Layer (type)                Output Shape              Param #   \n",
            "=================================================================\n",
            " vgg16 (Functional)          (None, 1, 1, 512)         14714688  \n",
            "                                                                 \n",
            " flatten_6 (Flatten)         (None, 512)               0         \n",
            "                                                                 \n",
            " dense_12 (Dense)            (None, 32)                16416     \n",
            "                                                                 \n",
            " dense_13 (Dense)            (None, 10)                330       \n",
            "                                                                 \n",
            "=================================================================\n",
            "Total params: 14,731,434\n",
            "Trainable params: 12,995,946\n",
            "Non-trainable params: 1,735,488\n",
            "_________________________________________________________________\n"
          ]
        }
      ],
      "source": [
        "vgg16_model.summary()"
      ]
    },
    {
      "cell_type": "code",
      "execution_count": 14,
      "metadata": {
        "id": "CnhIFLnozymj"
      },
      "outputs": [],
      "source": [
        "def run_model(model, batch_size=64, epochs=10):\n",
        "    # Compile the model\n",
        "    # adam optimizer: \n",
        "    # - adaptive learning rate: adjusts the step size for each parameter based on that parameter's performance\n",
        "    # - momentum optimization: helps avoid local minima, achieve faster convergence\n",
        "    # categorical crossentropy: \n",
        "    # - takes the predicted probabilities and the true class labels and calculates a single number that \n",
        "    #   represents the dissimilarity between them\n",
        "    model.compile(optimizer='adam', loss='categorical_crossentropy', metrics=['accuracy'])\n",
        "\n",
        "    # Train the model\n",
        "    # batch_size:\n",
        "    # - batches refer to subsets of the training data that are processed together during the training of a neural network. \n",
        "    #   Instead of feeding all the training examples at once, the data is divided into smaller groups or batches, and the \n",
        "    #   model is updated based on the average gradients calculated from each batch.\n",
        "    # - Standard practice is to choose a power-of-2 batch size\n",
        "    # epoch:\n",
        "    # - a complete iteration over the entire training dataset\n",
        "    model.fit(X_train, y_train, batch_size=batch_size, epochs=epochs, validation_data=(X_test, y_test))\n",
        "    return model"
      ]
    },
    {
      "cell_type": "markdown",
      "metadata": {
        "id": "h8b_P5EdZMMC"
      },
      "source": [
        "# Final Model Comparison"
      ]
    },
    {
      "cell_type": "code",
      "execution_count": 22,
      "metadata": {
        "colab": {
          "base_uri": "https://localhost:8080/"
        },
        "id": "otYosTJGZSDz",
        "outputId": "d43a8abb-c9ad-41f1-fce4-eb94b1452e0d"
      },
      "outputs": [
        {
          "name": "stdout",
          "output_type": "stream",
          "text": [
            "Epoch 1/10\n",
            "782/782 [==============================] - 57s 30ms/step - loss: 1.5324 - accuracy: 0.4579 - val_loss: 1.0134 - val_accuracy: 0.6654\n",
            "Epoch 2/10\n",
            "782/782 [==============================] - 22s 28ms/step - loss: 0.9003 - accuracy: 0.7035 - val_loss: 0.8526 - val_accuracy: 0.7160\n",
            "Epoch 3/10\n",
            "782/782 [==============================] - 23s 29ms/step - loss: 0.7532 - accuracy: 0.7512 - val_loss: 0.7683 - val_accuracy: 0.7534\n",
            "Epoch 4/10\n",
            "782/782 [==============================] - 23s 29ms/step - loss: 0.6704 - accuracy: 0.7785 - val_loss: 0.7763 - val_accuracy: 0.7496\n",
            "Epoch 5/10\n",
            "782/782 [==============================] - 23s 29ms/step - loss: 0.6019 - accuracy: 0.8000 - val_loss: 0.7405 - val_accuracy: 0.7585\n",
            "Epoch 6/10\n",
            "782/782 [==============================] - 22s 28ms/step - loss: 0.5449 - accuracy: 0.8173 - val_loss: 0.7428 - val_accuracy: 0.7637\n",
            "Epoch 7/10\n",
            "782/782 [==============================] - 23s 29ms/step - loss: 0.4831 - accuracy: 0.8390 - val_loss: 0.7332 - val_accuracy: 0.7730\n",
            "Epoch 8/10\n",
            "782/782 [==============================] - 23s 29ms/step - loss: 0.4309 - accuracy: 0.8569 - val_loss: 0.7856 - val_accuracy: 0.7720\n",
            "Epoch 9/10\n",
            "782/782 [==============================] - 23s 29ms/step - loss: 0.3839 - accuracy: 0.8717 - val_loss: 0.7773 - val_accuracy: 0.7743\n",
            "Epoch 10/10\n",
            "782/782 [==============================] - 23s 29ms/step - loss: 0.3381 - accuracy: 0.8872 - val_loss: 0.8842 - val_accuracy: 0.7681\n",
            "Epoch 1/10\n",
            "782/782 [==============================] - 9s 9ms/step - loss: 1.5805 - accuracy: 0.4254 - val_loss: 1.2644 - val_accuracy: 0.5478\n",
            "Epoch 2/10\n",
            "782/782 [==============================] - 6s 8ms/step - loss: 1.2149 - accuracy: 0.5667 - val_loss: 1.0368 - val_accuracy: 0.6356\n",
            "Epoch 3/10\n",
            "782/782 [==============================] - 7s 8ms/step - loss: 1.0470 - accuracy: 0.6306 - val_loss: 0.8837 - val_accuracy: 0.6929\n",
            "Epoch 4/10\n",
            "782/782 [==============================] - 6s 8ms/step - loss: 0.9527 - accuracy: 0.6659 - val_loss: 0.8710 - val_accuracy: 0.6925\n",
            "Epoch 5/10\n",
            "782/782 [==============================] - 7s 9ms/step - loss: 0.8820 - accuracy: 0.6911 - val_loss: 0.8017 - val_accuracy: 0.7154\n",
            "Epoch 6/10\n",
            "782/782 [==============================] - 6s 8ms/step - loss: 0.8351 - accuracy: 0.7069 - val_loss: 0.7448 - val_accuracy: 0.7422\n",
            "Epoch 7/10\n",
            "782/782 [==============================] - 6s 8ms/step - loss: 0.8008 - accuracy: 0.7190 - val_loss: 0.7308 - val_accuracy: 0.7519\n",
            "Epoch 8/10\n",
            "782/782 [==============================] - 6s 8ms/step - loss: 0.7600 - accuracy: 0.7314 - val_loss: 0.7222 - val_accuracy: 0.7504\n",
            "Epoch 9/10\n",
            "782/782 [==============================] - 7s 9ms/step - loss: 0.7337 - accuracy: 0.7416 - val_loss: 0.6892 - val_accuracy: 0.7632\n",
            "Epoch 10/10\n",
            "782/782 [==============================] - 6s 8ms/step - loss: 0.7091 - accuracy: 0.7502 - val_loss: 0.6988 - val_accuracy: 0.7566\n",
            "313/313 [==============================] - 1s 3ms/step - loss: 0.6988 - accuracy: 0.7566\n",
            "Base Model:\n",
            "Loss: 0.6988\n",
            "Accuracy: 0.7566\n",
            "313/313 [==============================] - 3s 8ms/step - loss: 0.8842 - accuracy: 0.7681\n",
            "VGG16 Model:\n",
            "Loss: 0.8842\n",
            "Accuracy: 0.7681\n",
            "\n",
            "Model Performance Comparison:\n",
            "VGG16 model performs better.\n"
          ]
        }
      ],
      "source": [
        "vgg16_model_trained = run_model(vgg16_model)\n",
        "base_model_trained = run_model(base_model)\n",
        "\n",
        "# Evaluate base model\n",
        "base_model_loss, base_model_accuracy = base_model_trained.evaluate(X_test, y_test)\n",
        "print(\"Base Model:\")\n",
        "print(f\"Loss: {base_model_loss:.4f}\")\n",
        "print(f\"Accuracy: {base_model_accuracy:.4f}\")\n",
        "\n",
        "# Evaluate VGG16 model\n",
        "vgg16_model_loss, vgg16_model_accuracy = vgg16_model_trained.evaluate(X_test, y_test)\n",
        "print(\"VGG16 Model:\")\n",
        "print(f\"Loss: {vgg16_model_loss:.4f}\")\n",
        "print(f\"Accuracy: {vgg16_model_accuracy:.4f}\")\n",
        "\n",
        "# Compare model performances\n",
        "print(\"\\nModel Performance Comparison:\")\n",
        "if base_model_accuracy > vgg16_model_accuracy:\n",
        "    print(\"Base model performs better.\")\n",
        "elif base_model_accuracy < vgg16_model_accuracy:\n",
        "    print(\"VGG16 model performs better.\")\n",
        "else:\n",
        "    print(\"Both models have the same accuracy.\")"
      ]
    },
    {
      "attachments": {},
      "cell_type": "markdown",
      "metadata": {},
      "source": [
        "# Model Experimentation"
      ]
    },
    {
      "cell_type": "markdown",
      "metadata": {
        "id": "WgtinahM9Do0"
      },
      "source": [
        "## This model seems to be severely overfitting\n",
        "- next steps are to try fewer neurons in dense layers, and use dropout layers"
      ]
    },
    {
      "cell_type": "markdown",
      "metadata": {
        "id": "sc1cnJe3gSE1"
      },
      "source": [
        "3 layers unfrozen, 512, 256"
      ]
    },
    {
      "cell_type": "code",
      "execution_count": null,
      "metadata": {
        "colab": {
          "base_uri": "https://localhost:8080/"
        },
        "id": "qsAVAMTEzyml",
        "outputId": "3084baa8-e4c3-4d84-a1a0-d37744f6af51"
      },
      "outputs": [
        {
          "name": "stdout",
          "output_type": "stream",
          "text": [
            "Epoch 1/10\n",
            "782/782 [==============================] - 22s 24ms/step - loss: 1.1360 - accuracy: 0.6027 - val_loss: 0.9753 - val_accuracy: 0.6688\n",
            "Epoch 2/10\n",
            "782/782 [==============================] - 17s 21ms/step - loss: 0.8236 - accuracy: 0.7207 - val_loss: 0.8540 - val_accuracy: 0.7122\n",
            "Epoch 3/10\n",
            "782/782 [==============================] - 17s 21ms/step - loss: 0.7117 - accuracy: 0.7561 - val_loss: 0.8064 - val_accuracy: 0.7252\n",
            "Epoch 4/10\n",
            "782/782 [==============================] - 16s 21ms/step - loss: 0.6290 - accuracy: 0.7843 - val_loss: 0.8220 - val_accuracy: 0.7271\n",
            "Epoch 5/10\n",
            "782/782 [==============================] - 17s 21ms/step - loss: 0.5653 - accuracy: 0.8049 - val_loss: 0.7619 - val_accuracy: 0.7492\n",
            "Epoch 6/10\n",
            "782/782 [==============================] - 16s 21ms/step - loss: 0.5037 - accuracy: 0.8243 - val_loss: 0.7962 - val_accuracy: 0.7374\n",
            "Epoch 7/10\n",
            "782/782 [==============================] - 17s 22ms/step - loss: 0.4425 - accuracy: 0.8463 - val_loss: 0.8379 - val_accuracy: 0.7429\n",
            "Epoch 8/10\n",
            "782/782 [==============================] - 17s 22ms/step - loss: 0.3925 - accuracy: 0.8654 - val_loss: 0.8790 - val_accuracy: 0.7401\n",
            "Epoch 9/10\n",
            "782/782 [==============================] - 17s 22ms/step - loss: 0.3470 - accuracy: 0.8805 - val_loss: 0.9719 - val_accuracy: 0.7390\n",
            "Epoch 10/10\n",
            "782/782 [==============================] - 17s 22ms/step - loss: 0.3067 - accuracy: 0.8928 - val_loss: 0.9888 - val_accuracy: 0.7388\n"
          ]
        }
      ],
      "source": [
        "vgg16_model_trained = run_model(vgg16_model)"
      ]
    },
    {
      "cell_type": "markdown",
      "metadata": {
        "id": "yx7GKOhegXrn"
      },
      "source": [
        "3 layers unfrozen, 64, 32"
      ]
    },
    {
      "cell_type": "code",
      "execution_count": null,
      "metadata": {
        "colab": {
          "base_uri": "https://localhost:8080/"
        },
        "id": "ADXFMqdIgsaU",
        "outputId": "484f34a3-d227-400d-e1fc-0388929f954c"
      },
      "outputs": [
        {
          "name": "stdout",
          "output_type": "stream",
          "text": [
            "Epoch 1/10\n",
            "782/782 [==============================] - 31s 23ms/step - loss: 1.1202 - accuracy: 0.6105 - val_loss: 0.9468 - val_accuracy: 0.6763\n",
            "Epoch 2/10\n",
            "782/782 [==============================] - 18s 23ms/step - loss: 0.8183 - accuracy: 0.7198 - val_loss: 0.8065 - val_accuracy: 0.7262\n",
            "Epoch 3/10\n",
            "782/782 [==============================] - 16s 21ms/step - loss: 0.7081 - accuracy: 0.7573 - val_loss: 0.8719 - val_accuracy: 0.7081\n",
            "Epoch 4/10\n",
            "782/782 [==============================] - 16s 21ms/step - loss: 0.6334 - accuracy: 0.7817 - val_loss: 0.8323 - val_accuracy: 0.7268\n",
            "Epoch 5/10\n",
            "782/782 [==============================] - 17s 22ms/step - loss: 0.5638 - accuracy: 0.8056 - val_loss: 0.8801 - val_accuracy: 0.7180\n",
            "Epoch 6/10\n",
            "782/782 [==============================] - 16s 21ms/step - loss: 0.4958 - accuracy: 0.8284 - val_loss: 0.8697 - val_accuracy: 0.7290\n",
            "Epoch 7/10\n",
            "782/782 [==============================] - 17s 22ms/step - loss: 0.4473 - accuracy: 0.8437 - val_loss: 0.8312 - val_accuracy: 0.7415\n",
            "Epoch 8/10\n",
            "782/782 [==============================] - 17s 22ms/step - loss: 0.3923 - accuracy: 0.8637 - val_loss: 0.8644 - val_accuracy: 0.7399\n",
            "Epoch 9/10\n",
            "782/782 [==============================] - 17s 22ms/step - loss: 0.3461 - accuracy: 0.8802 - val_loss: 0.8810 - val_accuracy: 0.7373\n",
            "Epoch 10/10\n",
            "782/782 [==============================] - 17s 21ms/step - loss: 0.2927 - accuracy: 0.8985 - val_loss: 1.0090 - val_accuracy: 0.7354\n"
          ]
        }
      ],
      "source": [
        "vgg16_3_64_32 = run_model(vgg16_model)"
      ]
    },
    {
      "cell_type": "markdown",
      "metadata": {
        "id": "mbJ0fVNijZso"
      },
      "source": [
        "3 layers unfrozen, 64 - just one dense layer performs better"
      ]
    },
    {
      "cell_type": "code",
      "execution_count": null,
      "metadata": {
        "colab": {
          "base_uri": "https://localhost:8080/"
        },
        "id": "GmUYRk7fjtdy",
        "outputId": "f16c524a-c162-43f2-ecf9-ebe43896a5c0"
      },
      "outputs": [
        {
          "name": "stdout",
          "output_type": "stream",
          "text": [
            "Epoch 1/10\n",
            "782/782 [==============================] - 20s 23ms/step - loss: 1.1004 - accuracy: 0.6163 - val_loss: 0.9438 - val_accuracy: 0.6795\n",
            "Epoch 2/10\n",
            "782/782 [==============================] - 17s 21ms/step - loss: 0.8043 - accuracy: 0.7252 - val_loss: 0.8067 - val_accuracy: 0.7280\n",
            "Epoch 3/10\n",
            "782/782 [==============================] - 17s 22ms/step - loss: 0.6959 - accuracy: 0.7605 - val_loss: 0.8134 - val_accuracy: 0.7223\n",
            "Epoch 4/10\n",
            "782/782 [==============================] - 17s 21ms/step - loss: 0.6159 - accuracy: 0.7856 - val_loss: 0.8064 - val_accuracy: 0.7259\n",
            "Epoch 5/10\n",
            "782/782 [==============================] - 16s 21ms/step - loss: 0.5403 - accuracy: 0.8104 - val_loss: 0.7863 - val_accuracy: 0.7400\n",
            "Epoch 6/10\n",
            "782/782 [==============================] - 16s 21ms/step - loss: 0.4734 - accuracy: 0.8326 - val_loss: 0.8132 - val_accuracy: 0.7385\n",
            "Epoch 7/10\n",
            "782/782 [==============================] - 18s 23ms/step - loss: 0.4173 - accuracy: 0.8528 - val_loss: 0.8924 - val_accuracy: 0.7400\n",
            "Epoch 8/10\n",
            "782/782 [==============================] - 17s 22ms/step - loss: 0.3638 - accuracy: 0.8714 - val_loss: 0.9146 - val_accuracy: 0.7399\n",
            "Epoch 9/10\n",
            "782/782 [==============================] - 17s 22ms/step - loss: 0.3126 - accuracy: 0.8905 - val_loss: 0.9987 - val_accuracy: 0.7365\n",
            "Epoch 10/10\n",
            "782/782 [==============================] - 16s 21ms/step - loss: 0.2750 - accuracy: 0.9034 - val_loss: 1.0182 - val_accuracy: 0.7406\n"
          ]
        }
      ],
      "source": [
        "vgg16_3_64 = run_model(vgg16_model)"
      ]
    },
    {
      "cell_type": "markdown",
      "metadata": {
        "id": "6CTnQ1_QisEV"
      },
      "source": [
        "3 layers unfrozen, 64, dropout"
      ]
    },
    {
      "cell_type": "code",
      "execution_count": null,
      "metadata": {
        "colab": {
          "base_uri": "https://localhost:8080/"
        },
        "id": "YHV1NTTmi0iK",
        "outputId": "0198bbfd-3fb3-433d-ca9c-a57eb399df53"
      },
      "outputs": [
        {
          "name": "stdout",
          "output_type": "stream",
          "text": [
            "Epoch 1/10\n",
            "782/782 [==============================] - 19s 21ms/step - loss: 1.2535 - accuracy: 0.5713 - val_loss: 0.9121 - val_accuracy: 0.6933\n",
            "Epoch 2/10\n",
            "782/782 [==============================] - 17s 22ms/step - loss: 0.8714 - accuracy: 0.7076 - val_loss: 0.8619 - val_accuracy: 0.7049\n",
            "Epoch 3/10\n",
            "782/782 [==============================] - 17s 22ms/step - loss: 0.7623 - accuracy: 0.7458 - val_loss: 0.8236 - val_accuracy: 0.7302\n",
            "Epoch 4/10\n",
            "782/782 [==============================] - 17s 22ms/step - loss: 0.6929 - accuracy: 0.7686 - val_loss: 0.7989 - val_accuracy: 0.7358\n",
            "Epoch 5/10\n",
            "782/782 [==============================] - 18s 23ms/step - loss: 0.6168 - accuracy: 0.7919 - val_loss: 0.7957 - val_accuracy: 0.7426\n",
            "Epoch 6/10\n",
            "782/782 [==============================] - 16s 21ms/step - loss: 0.5609 - accuracy: 0.8079 - val_loss: 0.8270 - val_accuracy: 0.7420\n",
            "Epoch 7/10\n",
            "782/782 [==============================] - 16s 21ms/step - loss: 0.5084 - accuracy: 0.8269 - val_loss: 0.8266 - val_accuracy: 0.7382\n",
            "Epoch 8/10\n",
            "782/782 [==============================] - 18s 23ms/step - loss: 0.4545 - accuracy: 0.8444 - val_loss: 0.8870 - val_accuracy: 0.7377\n",
            "Epoch 9/10\n",
            "782/782 [==============================] - 17s 22ms/step - loss: 0.4187 - accuracy: 0.8562 - val_loss: 0.8719 - val_accuracy: 0.7495\n",
            "Epoch 10/10\n",
            "782/782 [==============================] - 17s 22ms/step - loss: 0.3737 - accuracy: 0.8722 - val_loss: 1.0131 - val_accuracy: 0.7376\n"
          ]
        }
      ],
      "source": [
        "vgg16_3_64_dropout = run_model(vgg16_model)"
      ]
    },
    {
      "cell_type": "markdown",
      "metadata": {
        "id": "H3BWbRN5hXwf"
      },
      "source": [
        "3 layers unfrozen, 256, 64,  dropout\n",
        "\n"
      ]
    },
    {
      "cell_type": "code",
      "execution_count": null,
      "metadata": {
        "colab": {
          "base_uri": "https://localhost:8080/"
        },
        "id": "wr5pJYUahTlO",
        "outputId": "65731b05-08cf-41f5-997a-c536f69bebb2"
      },
      "outputs": [
        {
          "name": "stdout",
          "output_type": "stream",
          "text": [
            "Epoch 1/10\n",
            "782/782 [==============================] - 20s 22ms/step - loss: 1.2489 - accuracy: 0.5750 - val_loss: 0.9132 - val_accuracy: 0.6929\n",
            "Epoch 2/10\n",
            "782/782 [==============================] - 18s 22ms/step - loss: 0.9038 - accuracy: 0.7038 - val_loss: 0.8600 - val_accuracy: 0.7129\n",
            "Epoch 3/10\n",
            "782/782 [==============================] - 16s 21ms/step - loss: 0.7912 - accuracy: 0.7395 - val_loss: 0.8978 - val_accuracy: 0.7112\n",
            "Epoch 4/10\n",
            "782/782 [==============================] - 17s 22ms/step - loss: 0.7167 - accuracy: 0.7645 - val_loss: 0.8235 - val_accuracy: 0.7276\n",
            "Epoch 5/10\n",
            "782/782 [==============================] - 17s 22ms/step - loss: 0.6472 - accuracy: 0.7869 - val_loss: 0.8364 - val_accuracy: 0.7430\n",
            "Epoch 6/10\n",
            "782/782 [==============================] - 17s 21ms/step - loss: 0.5853 - accuracy: 0.8060 - val_loss: 0.8863 - val_accuracy: 0.7241\n",
            "Epoch 7/10\n",
            "782/782 [==============================] - 18s 23ms/step - loss: 0.5382 - accuracy: 0.8202 - val_loss: 0.8720 - val_accuracy: 0.7376\n",
            "Epoch 8/10\n",
            "782/782 [==============================] - 17s 22ms/step - loss: 0.4812 - accuracy: 0.8395 - val_loss: 0.8978 - val_accuracy: 0.7413\n",
            "Epoch 9/10\n",
            "782/782 [==============================] - 19s 24ms/step - loss: 0.4355 - accuracy: 0.8543 - val_loss: 0.9207 - val_accuracy: 0.7377\n",
            "Epoch 10/10\n",
            "782/782 [==============================] - 18s 23ms/step - loss: 0.4067 - accuracy: 0.8651 - val_loss: 0.9468 - val_accuracy: 0.7449\n"
          ]
        }
      ],
      "source": [
        "vgg16_3_256_64_dropout = run_model(vgg16_model)"
      ]
    },
    {
      "cell_type": "markdown",
      "metadata": {
        "id": "RfFuXXJI_g_N"
      },
      "source": [
        "## Trying to unfreeze a few more layers\n",
        "- Unfreezing layers helps adjust the model to the task at hand"
      ]
    },
    {
      "cell_type": "markdown",
      "metadata": {
        "id": "KP60ZLp83Q0e"
      },
      "source": [
        "5 layers unfrozen 64 dropout .5"
      ]
    },
    {
      "cell_type": "code",
      "execution_count": 7,
      "metadata": {
        "colab": {
          "base_uri": "https://localhost:8080/"
        },
        "id": "BI55rj0X3Q0l",
        "outputId": "0d4fa4a6-8398-4b9f-a7a6-80f235b5cd71"
      },
      "outputs": [
        {
          "name": "stdout",
          "output_type": "stream",
          "text": [
            "Epoch 1/10\n",
            "782/782 [==============================] - 31s 23ms/step - loss: 1.3347 - accuracy: 0.5485 - val_loss: 0.9936 - val_accuracy: 0.6702\n",
            "Epoch 2/10\n",
            "782/782 [==============================] - 17s 22ms/step - loss: 0.9673 - accuracy: 0.6905 - val_loss: 0.8804 - val_accuracy: 0.7067\n",
            "Epoch 3/10\n",
            "782/782 [==============================] - 18s 22ms/step - loss: 0.8459 - accuracy: 0.7253 - val_loss: 0.8645 - val_accuracy: 0.7180\n",
            "Epoch 4/10\n",
            "782/782 [==============================] - 17s 21ms/step - loss: 0.7720 - accuracy: 0.7501 - val_loss: 0.8413 - val_accuracy: 0.7284\n",
            "Epoch 5/10\n",
            "782/782 [==============================] - 17s 21ms/step - loss: 0.7107 - accuracy: 0.7677 - val_loss: 0.8736 - val_accuracy: 0.7269\n",
            "Epoch 6/10\n",
            "782/782 [==============================] - 17s 21ms/step - loss: 0.6523 - accuracy: 0.7858 - val_loss: 0.8567 - val_accuracy: 0.7369\n",
            "Epoch 7/10\n",
            "782/782 [==============================] - 17s 22ms/step - loss: 0.6101 - accuracy: 0.8007 - val_loss: 0.8614 - val_accuracy: 0.7318\n",
            "Epoch 8/10\n",
            "782/782 [==============================] - 17s 22ms/step - loss: 0.5568 - accuracy: 0.8157 - val_loss: 0.8891 - val_accuracy: 0.7367\n",
            "Epoch 9/10\n",
            "782/782 [==============================] - 18s 24ms/step - loss: 0.5300 - accuracy: 0.8257 - val_loss: 0.9126 - val_accuracy: 0.7341\n",
            "Epoch 10/10\n",
            "782/782 [==============================] - 19s 24ms/step - loss: 0.4905 - accuracy: 0.8373 - val_loss: 0.9278 - val_accuracy: 0.7377\n"
          ]
        }
      ],
      "source": [
        "vgg16_5_64_dropout_50 = run_model(vgg16_model)"
      ]
    },
    {
      "cell_type": "markdown",
      "metadata": {
        "id": "SBvTRFaHmi4t"
      },
      "source": [
        "8 layers unfrozen 64 dropout .25"
      ]
    },
    {
      "cell_type": "code",
      "execution_count": null,
      "metadata": {
        "colab": {
          "base_uri": "https://localhost:8080/"
        },
        "id": "005mPo7umhCw",
        "outputId": "73f37cf0-8bed-44c4-a311-d98825e95b33"
      },
      "outputs": [
        {
          "name": "stdout",
          "output_type": "stream",
          "text": [
            "Epoch 1/10\n",
            "782/782 [==============================] - 26s 29ms/step - loss: 1.5949 - accuracy: 0.4002 - val_loss: 1.1644 - val_accuracy: 0.5783\n",
            "Epoch 2/10\n",
            "782/782 [==============================] - 23s 30ms/step - loss: 0.9839 - accuracy: 0.6726 - val_loss: 0.9032 - val_accuracy: 0.7074\n",
            "Epoch 3/10\n",
            "782/782 [==============================] - 23s 30ms/step - loss: 0.8327 - accuracy: 0.7295 - val_loss: 0.8631 - val_accuracy: 0.7257\n",
            "Epoch 4/10\n",
            "782/782 [==============================] - 22s 28ms/step - loss: 0.7468 - accuracy: 0.7545 - val_loss: 0.7888 - val_accuracy: 0.7477\n",
            "Epoch 5/10\n",
            "782/782 [==============================] - 23s 30ms/step - loss: 0.6850 - accuracy: 0.7762 - val_loss: 0.8613 - val_accuracy: 0.7384\n",
            "Epoch 6/10\n",
            "782/782 [==============================] - 22s 29ms/step - loss: 0.6432 - accuracy: 0.7902 - val_loss: 0.8220 - val_accuracy: 0.7474\n",
            "Epoch 7/10\n",
            "782/782 [==============================] - 23s 30ms/step - loss: 0.5948 - accuracy: 0.8039 - val_loss: 0.7624 - val_accuracy: 0.7589\n",
            "Epoch 8/10\n",
            "782/782 [==============================] - 22s 29ms/step - loss: 0.5485 - accuracy: 0.8213 - val_loss: 0.7711 - val_accuracy: 0.7628\n",
            "Epoch 9/10\n",
            "782/782 [==============================] - 23s 30ms/step - loss: 0.5107 - accuracy: 0.8335 - val_loss: 0.8014 - val_accuracy: 0.7631\n",
            "Epoch 10/10\n",
            "782/782 [==============================] - 23s 30ms/step - loss: 0.4760 - accuracy: 0.8440 - val_loss: 0.7983 - val_accuracy: 0.7687\n"
          ]
        }
      ],
      "source": [
        "vgg16_8_64_dropout = run_model(vgg16_model)"
      ]
    },
    {
      "cell_type": "markdown",
      "metadata": {
        "id": "wURDKLKu4am5"
      },
      "source": [
        "8 layers unfrozen 256 dropout .5"
      ]
    },
    {
      "cell_type": "code",
      "execution_count": 8,
      "metadata": {
        "colab": {
          "base_uri": "https://localhost:8080/"
        },
        "id": "JAfaxMIM4anH",
        "outputId": "f499dd12-f808-452b-8ebc-cfa93fe488be"
      },
      "outputs": [
        {
          "name": "stdout",
          "output_type": "stream",
          "text": [
            "Epoch 1/10\n",
            "782/782 [==============================] - 21s 23ms/step - loss: 0.4729 - accuracy: 0.8462 - val_loss: 1.0550 - val_accuracy: 0.7310\n",
            "Epoch 2/10\n",
            "782/782 [==============================] - 17s 21ms/step - loss: 0.4241 - accuracy: 0.8607 - val_loss: 1.1161 - val_accuracy: 0.7430\n",
            "Epoch 3/10\n",
            "782/782 [==============================] - 17s 21ms/step - loss: 0.3952 - accuracy: 0.8673 - val_loss: 1.1673 - val_accuracy: 0.7216\n",
            "Epoch 4/10\n",
            "782/782 [==============================] - 17s 21ms/step - loss: 0.3685 - accuracy: 0.8779 - val_loss: 1.1250 - val_accuracy: 0.7360\n",
            "Epoch 5/10\n",
            "782/782 [==============================] - 18s 23ms/step - loss: 0.3373 - accuracy: 0.8885 - val_loss: 1.1784 - val_accuracy: 0.7282\n",
            "Epoch 6/10\n",
            "782/782 [==============================] - 18s 23ms/step - loss: 0.3193 - accuracy: 0.8951 - val_loss: 1.2014 - val_accuracy: 0.7364\n",
            "Epoch 7/10\n",
            "782/782 [==============================] - 20s 26ms/step - loss: 0.3009 - accuracy: 0.9013 - val_loss: 1.3999 - val_accuracy: 0.7326\n",
            "Epoch 8/10\n",
            "782/782 [==============================] - 19s 24ms/step - loss: 0.2802 - accuracy: 0.9089 - val_loss: 1.3217 - val_accuracy: 0.7394\n",
            "Epoch 9/10\n",
            "782/782 [==============================] - 17s 22ms/step - loss: 0.2592 - accuracy: 0.9165 - val_loss: 1.3446 - val_accuracy: 0.7353\n",
            "Epoch 10/10\n",
            "782/782 [==============================] - 16s 21ms/step - loss: 0.2430 - accuracy: 0.9221 - val_loss: 1.3654 - val_accuracy: 0.7376\n"
          ]
        }
      ],
      "source": [
        "vgg16_8_256_dropout_25 = run_model(vgg16_model)"
      ]
    },
    {
      "cell_type": "markdown",
      "metadata": {
        "id": "1dXI3b8Yn0zk"
      },
      "source": [
        "8 layers unfrozen 64 32 dropout .5"
      ]
    },
    {
      "cell_type": "code",
      "execution_count": 61,
      "metadata": {
        "colab": {
          "base_uri": "https://localhost:8080/"
        },
        "id": "Bx3KPuL-n0Ny",
        "outputId": "47cf3df4-8afa-47e2-b420-c3a1e8be0d7b"
      },
      "outputs": [
        {
          "name": "stdout",
          "output_type": "stream",
          "text": [
            "Epoch 1/10\n",
            "782/782 [==============================] - 27s 30ms/step - loss: 1.8858 - accuracy: 0.2723 - val_loss: 1.3586 - val_accuracy: 0.4862\n",
            "Epoch 2/10\n",
            "782/782 [==============================] - 23s 30ms/step - loss: 1.3733 - accuracy: 0.4837 - val_loss: 1.1805 - val_accuracy: 0.5773\n",
            "Epoch 3/10\n",
            "782/782 [==============================] - 23s 30ms/step - loss: 1.1978 - accuracy: 0.5820 - val_loss: 1.0251 - val_accuracy: 0.6558\n",
            "Epoch 4/10\n",
            "782/782 [==============================] - 23s 30ms/step - loss: 1.0415 - accuracy: 0.6583 - val_loss: 0.8715 - val_accuracy: 0.7145\n",
            "Epoch 5/10\n",
            "782/782 [==============================] - 23s 30ms/step - loss: 0.9330 - accuracy: 0.7009 - val_loss: 0.8824 - val_accuracy: 0.7173\n",
            "Epoch 6/10\n",
            "782/782 [==============================] - 23s 30ms/step - loss: 0.8762 - accuracy: 0.7207 - val_loss: 0.8475 - val_accuracy: 0.7382\n",
            "Epoch 7/10\n",
            "782/782 [==============================] - 22s 29ms/step - loss: 0.8129 - accuracy: 0.7411 - val_loss: 0.8356 - val_accuracy: 0.7427\n",
            "Epoch 8/10\n",
            "782/782 [==============================] - 23s 30ms/step - loss: 0.7734 - accuracy: 0.7546 - val_loss: 0.7825 - val_accuracy: 0.7521\n",
            "Epoch 9/10\n",
            "782/782 [==============================] - 22s 28ms/step - loss: 0.7374 - accuracy: 0.7648 - val_loss: 0.8240 - val_accuracy: 0.7481\n",
            "Epoch 10/10\n",
            "782/782 [==============================] - 23s 30ms/step - loss: 0.7111 - accuracy: 0.7745 - val_loss: 0.8185 - val_accuracy: 0.7498\n"
          ]
        }
      ],
      "source": [
        "vgg16_8_64_32_dropout = run_model(vgg16_model)"
      ]
    },
    {
      "cell_type": "markdown",
      "metadata": {
        "id": "do6Nkzn35v63"
      },
      "source": [
        "8 layers unfrozen 32 dropout .25"
      ]
    },
    {
      "cell_type": "code",
      "execution_count": 10,
      "metadata": {
        "colab": {
          "base_uri": "https://localhost:8080/"
        },
        "id": "61PsP7T_52EB",
        "outputId": "3c9dbf05-c006-44e0-e5f0-de32097450bb"
      },
      "outputs": [
        {
          "name": "stdout",
          "output_type": "stream",
          "text": [
            "Epoch 1/10\n",
            "782/782 [==============================] - 28s 32ms/step - loss: 1.6481 - accuracy: 0.3875 - val_loss: 1.1421 - val_accuracy: 0.5754\n",
            "Epoch 2/10\n",
            "782/782 [==============================] - 24s 31ms/step - loss: 1.1139 - accuracy: 0.6188 - val_loss: 1.0032 - val_accuracy: 0.6386\n",
            "Epoch 3/10\n",
            "782/782 [==============================] - 22s 29ms/step - loss: 0.9179 - accuracy: 0.6957 - val_loss: 0.9040 - val_accuracy: 0.7019\n",
            "Epoch 4/10\n",
            "782/782 [==============================] - 23s 30ms/step - loss: 0.8130 - accuracy: 0.7353 - val_loss: 0.8134 - val_accuracy: 0.7375\n",
            "Epoch 5/10\n",
            "782/782 [==============================] - 23s 30ms/step - loss: 0.7377 - accuracy: 0.7632 - val_loss: 0.7453 - val_accuracy: 0.7589\n",
            "Epoch 6/10\n",
            "782/782 [==============================] - 22s 29ms/step - loss: 0.6796 - accuracy: 0.7809 - val_loss: 0.8026 - val_accuracy: 0.7455\n",
            "Epoch 7/10\n",
            "782/782 [==============================] - 23s 29ms/step - loss: 0.6264 - accuracy: 0.7982 - val_loss: 0.7588 - val_accuracy: 0.7606\n",
            "Epoch 8/10\n",
            "782/782 [==============================] - 23s 30ms/step - loss: 0.5981 - accuracy: 0.8101 - val_loss: 0.8005 - val_accuracy: 0.7596\n",
            "Epoch 9/10\n",
            "782/782 [==============================] - 23s 30ms/step - loss: 0.5421 - accuracy: 0.8241 - val_loss: 0.8004 - val_accuracy: 0.7630\n",
            "Epoch 10/10\n",
            "782/782 [==============================] - 22s 29ms/step - loss: 0.5199 - accuracy: 0.8334 - val_loss: 0.7917 - val_accuracy: 0.7667\n"
          ]
        }
      ],
      "source": [
        "vgg16_8_32_dropout25 = run_model(vgg16_model)"
      ]
    },
    {
      "cell_type": "markdown",
      "metadata": {
        "id": "6T7hAln468o_"
      },
      "source": [
        "8 layers unfrozen 32 - this simpler model with only one dense layer seems to have an ideal level of complexity\n",
        "- ultimate solution will likely have one dense layer and 8 layers unfrozen"
      ]
    },
    {
      "cell_type": "code",
      "execution_count": 16,
      "metadata": {
        "colab": {
          "base_uri": "https://localhost:8080/"
        },
        "id": "aSJMRa2b6_wj",
        "outputId": "cac4e26b-4e85-451d-a87b-d9b2397de76a"
      },
      "outputs": [
        {
          "name": "stdout",
          "output_type": "stream",
          "text": [
            "Epoch 1/10\n",
            "782/782 [==============================] - 26s 29ms/step - loss: 1.3869 - accuracy: 0.4990 - val_loss: 0.9737 - val_accuracy: 0.6813\n",
            "Epoch 2/10\n",
            "782/782 [==============================] - 22s 29ms/step - loss: 0.8574 - accuracy: 0.7085 - val_loss: 0.8326 - val_accuracy: 0.7226\n",
            "Epoch 3/10\n",
            "782/782 [==============================] - 23s 30ms/step - loss: 0.7310 - accuracy: 0.7529 - val_loss: 0.7529 - val_accuracy: 0.7539\n",
            "Epoch 4/10\n",
            "782/782 [==============================] - 23s 29ms/step - loss: 0.6477 - accuracy: 0.7829 - val_loss: 0.7513 - val_accuracy: 0.7562\n",
            "Epoch 5/10\n",
            "782/782 [==============================] - 22s 28ms/step - loss: 0.5845 - accuracy: 0.8037 - val_loss: 0.7734 - val_accuracy: 0.7541\n",
            "Epoch 6/10\n",
            "782/782 [==============================] - 23s 30ms/step - loss: 0.5433 - accuracy: 0.8179 - val_loss: 0.7241 - val_accuracy: 0.7749\n",
            "Epoch 7/10\n",
            "782/782 [==============================] - 23s 30ms/step - loss: 0.4895 - accuracy: 0.8353 - val_loss: 0.7616 - val_accuracy: 0.7632\n",
            "Epoch 8/10\n",
            "782/782 [==============================] - 22s 28ms/step - loss: 0.4392 - accuracy: 0.8530 - val_loss: 0.7529 - val_accuracy: 0.7797\n",
            "Epoch 9/10\n",
            "782/782 [==============================] - 22s 29ms/step - loss: 0.3985 - accuracy: 0.8671 - val_loss: 0.7551 - val_accuracy: 0.7803\n",
            "Epoch 10/10\n",
            "782/782 [==============================] - 22s 28ms/step - loss: 0.3636 - accuracy: 0.8772 - val_loss: 0.7880 - val_accuracy: 0.7627\n"
          ]
        }
      ],
      "source": [
        "vgg16_8_32 = run_model(vgg16_model)"
      ]
    },
    {
      "cell_type": "markdown",
      "metadata": {
        "id": "5zrJlqr08of0"
      },
      "source": [
        "## Trying low, medium, and high regularization"
      ]
    },
    {
      "cell_type": "markdown",
      "metadata": {
        "id": "tkYYIf1m7qPJ"
      },
      "source": [
        "8 layers unfrozen 32 with regularizer .01 - Best results yet!"
      ]
    },
    {
      "cell_type": "code",
      "execution_count": 7,
      "metadata": {
        "colab": {
          "base_uri": "https://localhost:8080/"
        },
        "id": "KUlmr3xRCDqN",
        "outputId": "c439855b-0652-45ab-9e6c-5b0943ddafa3"
      },
      "outputs": [
        {
          "name": "stdout",
          "output_type": "stream",
          "text": [
            "Epoch 1/10\n",
            "782/782 [==============================] - 40s 31ms/step - loss: 1.5313 - accuracy: 0.4639 - val_loss: 1.0590 - val_accuracy: 0.6590\n",
            "Epoch 2/10\n",
            "782/782 [==============================] - 22s 28ms/step - loss: 0.8818 - accuracy: 0.7094 - val_loss: 0.8078 - val_accuracy: 0.7387\n",
            "Epoch 3/10\n",
            "782/782 [==============================] - 23s 29ms/step - loss: 0.7325 - accuracy: 0.7592 - val_loss: 0.8004 - val_accuracy: 0.7353\n",
            "Epoch 4/10\n",
            "782/782 [==============================] - 23s 29ms/step - loss: 0.6510 - accuracy: 0.7869 - val_loss: 0.7327 - val_accuracy: 0.7554\n",
            "Epoch 5/10\n",
            "782/782 [==============================] - 22s 29ms/step - loss: 0.5819 - accuracy: 0.8081 - val_loss: 0.7768 - val_accuracy: 0.7590\n",
            "Epoch 6/10\n",
            "782/782 [==============================] - 22s 28ms/step - loss: 0.5198 - accuracy: 0.8292 - val_loss: 0.7270 - val_accuracy: 0.7699\n",
            "Epoch 7/10\n",
            "782/782 [==============================] - 23s 29ms/step - loss: 0.4739 - accuracy: 0.8436 - val_loss: 0.7452 - val_accuracy: 0.7743\n",
            "Epoch 8/10\n",
            "782/782 [==============================] - 23s 29ms/step - loss: 0.4256 - accuracy: 0.8609 - val_loss: 0.7102 - val_accuracy: 0.7742\n",
            "Epoch 9/10\n",
            "782/782 [==============================] - 23s 29ms/step - loss: 0.3838 - accuracy: 0.8742 - val_loss: 0.7490 - val_accuracy: 0.7860\n",
            "Epoch 10/10\n",
            "782/782 [==============================] - 22s 28ms/step - loss: 0.3446 - accuracy: 0.8857 - val_loss: 0.7763 - val_accuracy: 0.7826\n"
          ]
        }
      ],
      "source": [
        "# regularizer .01\n",
        "vgg_8_32_regularizer = run_model(vgg16_model)"
      ]
    },
    {
      "cell_type": "markdown",
      "metadata": {
        "id": "iYsIAeep__Nu"
      },
      "source": [
        "8 layers unfrozen 32 with regularizer .01, dropout .5"
      ]
    },
    {
      "cell_type": "code",
      "execution_count": 20,
      "metadata": {
        "colab": {
          "base_uri": "https://localhost:8080/"
        },
        "id": "zv_9KbeqGK1l",
        "outputId": "05975043-87eb-4a82-fe43-c3158c2faed3"
      },
      "outputs": [
        {
          "name": "stdout",
          "output_type": "stream",
          "text": [
            "Epoch 1/10\n",
            "782/782 [==============================] - 27s 29ms/step - loss: 1.9589 - accuracy: 0.2479 - val_loss: 1.4546 - val_accuracy: 0.4691\n",
            "Epoch 2/10\n",
            "782/782 [==============================] - 23s 29ms/step - loss: 1.4613 - accuracy: 0.4488 - val_loss: 1.1527 - val_accuracy: 0.5877\n",
            "Epoch 3/10\n",
            "782/782 [==============================] - 23s 30ms/step - loss: 1.2323 - accuracy: 0.5641 - val_loss: 1.0694 - val_accuracy: 0.6407\n",
            "Epoch 4/10\n",
            "782/782 [==============================] - 23s 30ms/step - loss: 1.0985 - accuracy: 0.6272 - val_loss: 0.9693 - val_accuracy: 0.6856\n",
            "Epoch 5/10\n",
            "782/782 [==============================] - 22s 29ms/step - loss: 1.0125 - accuracy: 0.6608 - val_loss: 0.9514 - val_accuracy: 0.7062\n",
            "Epoch 6/10\n",
            "782/782 [==============================] - 23s 30ms/step - loss: 0.9225 - accuracy: 0.6974 - val_loss: 0.9769 - val_accuracy: 0.7176\n",
            "Epoch 7/10\n",
            "782/782 [==============================] - 22s 28ms/step - loss: 0.8850 - accuracy: 0.7066 - val_loss: 0.9640 - val_accuracy: 0.7170\n",
            "Epoch 8/10\n",
            "782/782 [==============================] - 22s 28ms/step - loss: 0.8277 - accuracy: 0.7311 - val_loss: 0.8517 - val_accuracy: 0.7369\n",
            "Epoch 9/10\n",
            "782/782 [==============================] - 23s 30ms/step - loss: 0.7854 - accuracy: 0.7465 - val_loss: 0.8421 - val_accuracy: 0.7462\n",
            "Epoch 10/10\n",
            "782/782 [==============================] - 23s 30ms/step - loss: 0.7588 - accuracy: 0.7553 - val_loss: 0.8620 - val_accuracy: 0.7437\n"
          ]
        }
      ],
      "source": [
        "# regularizer .01, dropout .5\n",
        "vgg_8_32_regularizer01_dropout = run_model(vgg16_model)"
      ]
    },
    {
      "cell_type": "markdown",
      "metadata": {
        "id": "GrYhxESTAszn"
      },
      "source": [
        "8 layers unfrozen 32 with regularizer .001"
      ]
    },
    {
      "cell_type": "code",
      "execution_count": 8,
      "metadata": {
        "colab": {
          "base_uri": "https://localhost:8080/"
        },
        "id": "NSHlV8WJAszu",
        "outputId": "ec783dee-1631-4adb-833d-ed07a19adf8d"
      },
      "outputs": [
        {
          "name": "stdout",
          "output_type": "stream",
          "text": [
            "Epoch 1/10\n",
            "782/782 [==============================] - 37s 30ms/step - loss: 1.4152 - accuracy: 0.4812 - val_loss: 1.1503 - val_accuracy: 0.6297\n",
            "Epoch 2/10\n",
            "782/782 [==============================] - 23s 29ms/step - loss: 0.8792 - accuracy: 0.7008 - val_loss: 0.8197 - val_accuracy: 0.7258\n",
            "Epoch 3/10\n",
            "782/782 [==============================] - 24s 30ms/step - loss: 0.7429 - accuracy: 0.7533 - val_loss: 0.8445 - val_accuracy: 0.7237\n",
            "Epoch 4/10\n",
            "782/782 [==============================] - 23s 29ms/step - loss: 0.6507 - accuracy: 0.7842 - val_loss: 0.7892 - val_accuracy: 0.7495\n",
            "Epoch 5/10\n",
            "782/782 [==============================] - 23s 29ms/step - loss: 0.5962 - accuracy: 0.8015 - val_loss: 0.7697 - val_accuracy: 0.7496\n",
            "Epoch 6/10\n",
            "782/782 [==============================] - 23s 29ms/step - loss: 0.5383 - accuracy: 0.8215 - val_loss: 0.6978 - val_accuracy: 0.7795\n",
            "Epoch 7/10\n",
            "782/782 [==============================] - 24s 31ms/step - loss: 0.4807 - accuracy: 0.8399 - val_loss: 0.7323 - val_accuracy: 0.7724\n",
            "Epoch 8/10\n",
            "782/782 [==============================] - 23s 29ms/step - loss: 0.4325 - accuracy: 0.8576 - val_loss: 0.7615 - val_accuracy: 0.7750\n",
            "Epoch 9/10\n",
            "782/782 [==============================] - 24s 30ms/step - loss: 0.3901 - accuracy: 0.8708 - val_loss: 0.7594 - val_accuracy: 0.7723\n",
            "Epoch 10/10\n",
            "782/782 [==============================] - 24s 30ms/step - loss: 0.3554 - accuracy: 0.8828 - val_loss: 0.7668 - val_accuracy: 0.7729\n"
          ]
        }
      ],
      "source": [
        "# regularizer .001\n",
        "vgg_8_32_regularizer_001 = run_model(vgg16_model)"
      ]
    },
    {
      "cell_type": "markdown",
      "metadata": {
        "id": "iLiltPXDBJIC"
      },
      "source": [
        "8 layers unfrozen 32 with regularizer .1"
      ]
    },
    {
      "cell_type": "code",
      "execution_count": 10,
      "metadata": {
        "colab": {
          "base_uri": "https://localhost:8080/"
        },
        "id": "F2Rh9iXnBJIL",
        "outputId": "5313c5e2-0ead-4117-f677-9496151359df"
      },
      "outputs": [
        {
          "name": "stdout",
          "output_type": "stream",
          "text": [
            "Epoch 1/10\n",
            "782/782 [==============================] - 27s 30ms/step - loss: 1.6962 - accuracy: 0.4754 - val_loss: 1.0526 - val_accuracy: 0.6563\n",
            "Epoch 2/10\n",
            "782/782 [==============================] - 23s 30ms/step - loss: 0.9035 - accuracy: 0.6997 - val_loss: 0.9595 - val_accuracy: 0.6935\n",
            "Epoch 3/10\n",
            "782/782 [==============================] - 24s 30ms/step - loss: 0.7519 - accuracy: 0.7536 - val_loss: 0.8143 - val_accuracy: 0.7306\n",
            "Epoch 4/10\n",
            "782/782 [==============================] - 23s 29ms/step - loss: 0.6682 - accuracy: 0.7808 - val_loss: 0.7586 - val_accuracy: 0.7556\n",
            "Epoch 5/10\n",
            "782/782 [==============================] - 24s 30ms/step - loss: 0.5913 - accuracy: 0.8065 - val_loss: 0.7430 - val_accuracy: 0.7654\n",
            "Epoch 6/10\n",
            "782/782 [==============================] - 24s 30ms/step - loss: 0.5306 - accuracy: 0.8265 - val_loss: 0.7526 - val_accuracy: 0.7710\n",
            "Epoch 7/10\n",
            "782/782 [==============================] - 24s 30ms/step - loss: 0.4639 - accuracy: 0.8480 - val_loss: 0.7401 - val_accuracy: 0.7747\n",
            "Epoch 8/10\n",
            "782/782 [==============================] - 23s 30ms/step - loss: 0.4083 - accuracy: 0.8667 - val_loss: 0.7328 - val_accuracy: 0.7743\n",
            "Epoch 9/10\n",
            "782/782 [==============================] - 23s 30ms/step - loss: 0.3559 - accuracy: 0.8849 - val_loss: 0.8115 - val_accuracy: 0.7762\n",
            "Epoch 10/10\n",
            "782/782 [==============================] - 23s 29ms/step - loss: 0.3141 - accuracy: 0.8992 - val_loss: 0.8906 - val_accuracy: 0.7592\n"
          ]
        }
      ],
      "source": [
        "# regularizer .1\n",
        "vgg_8_32_regularizer_1 = run_model(vgg16_model)"
      ]
    }
  ],
  "metadata": {
    "accelerator": "GPU",
    "colab": {
      "gpuType": "T4",
      "provenance": []
    },
    "gpuClass": "standard",
    "kernelspec": {
      "display_name": "Python 3",
      "language": "python",
      "name": "python3"
    },
    "language_info": {
      "codemirror_mode": {
        "name": "ipython",
        "version": 3
      },
      "file_extension": ".py",
      "mimetype": "text/x-python",
      "name": "python",
      "nbconvert_exporter": "python",
      "pygments_lexer": "ipython3",
      "version": "3.10.2"
    },
    "orig_nbformat": 4
  },
  "nbformat": 4,
  "nbformat_minor": 0
}
